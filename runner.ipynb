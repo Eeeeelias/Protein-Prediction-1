{
 "cells": [
  {
   "metadata": {
    "ExecuteTime": {
     "end_time": "2024-06-11T11:14:30.204764Z",
     "start_time": "2024-06-11T11:14:27.750247Z"
    }
   },
   "cell_type": "code",
   "source": [
    "# Install tensorboard\n",
    "import os\n",
    "\n",
    "import torch.optim\n",
    "!pip install tensorboard\n",
    "\n",
    "\n",
    "if not os.path.exists('logs'):\n",
    "    os.makedirs('logs')"
   ],
   "id": "2b56ae76937d3b4a",
   "outputs": [
    {
     "name": "stdout",
     "output_type": "stream",
     "text": [
      "Requirement already satisfied: tensorboard in d:\\programming\\pp1\\.venv\\lib\\site-packages (2.16.2)\n",
      "Requirement already satisfied: absl-py>=0.4 in d:\\programming\\pp1\\.venv\\lib\\site-packages (from tensorboard) (2.1.0)\n",
      "Requirement already satisfied: grpcio>=1.48.2 in d:\\programming\\pp1\\.venv\\lib\\site-packages (from tensorboard) (1.64.1)\n",
      "Requirement already satisfied: markdown>=2.6.8 in d:\\programming\\pp1\\.venv\\lib\\site-packages (from tensorboard) (3.6)\n",
      "Requirement already satisfied: numpy>=1.12.0 in d:\\programming\\pp1\\.venv\\lib\\site-packages (from tensorboard) (1.26.4)\n",
      "Requirement already satisfied: protobuf!=4.24.0,>=3.19.6 in d:\\programming\\pp1\\.venv\\lib\\site-packages (from tensorboard) (5.27.1)\n",
      "Requirement already satisfied: setuptools>=41.0.0 in d:\\programming\\pp1\\.venv\\lib\\site-packages (from tensorboard) (68.2.0)\n",
      "Requirement already satisfied: six>1.9 in d:\\programming\\pp1\\.venv\\lib\\site-packages (from tensorboard) (1.16.0)\n",
      "Requirement already satisfied: tensorboard-data-server<0.8.0,>=0.7.0 in d:\\programming\\pp1\\.venv\\lib\\site-packages (from tensorboard) (0.7.2)\n",
      "Requirement already satisfied: werkzeug>=1.0.1 in d:\\programming\\pp1\\.venv\\lib\\site-packages (from tensorboard) (3.0.3)\n",
      "Requirement already satisfied: MarkupSafe>=2.1.1 in d:\\programming\\pp1\\.venv\\lib\\site-packages (from werkzeug>=1.0.1->tensorboard) (2.1.5)\n"
     ]
    },
    {
     "name": "stderr",
     "output_type": "stream",
     "text": [
      "\n",
      "[notice] A new release of pip is available: 23.2.1 -> 24.0\n",
      "[notice] To update, run: python.exe -m pip install --upgrade pip\n"
     ]
    }
   ],
   "execution_count": 1
  },
  {
   "cell_type": "code",
   "id": "initial_id",
   "metadata": {
    "collapsed": true,
    "ExecuteTime": {
     "end_time": "2024-06-11T12:33:43.461803Z",
     "start_time": "2024-06-11T12:33:43.292526Z"
    }
   },
   "source": [
    "from dataload import *\n",
    "from lin_reg import *\n",
    "from neural_net import *\n",
    "import tqdm\n",
    "import matplotlib.pyplot as plt\n",
    "from torch.utils.tensorboard import SummaryWriter\n",
    "%load_ext autoreload\n",
    "%autoreload 2"
   ],
   "outputs": [
    {
     "name": "stdout",
     "output_type": "stream",
     "text": [
      "The autoreload extension is already loaded. To reload it, use:\n",
      "  %reload_ext autoreload\n"
     ]
    }
   ],
   "execution_count": 78
  },
  {
   "cell_type": "code",
   "source": "dataset = dense_Dataset('data/embeddings.h5', 'data/densities.csv', test_perc=0.50, val_perc=0.15) ",
   "metadata": {
    "collapsed": false,
    "ExecuteTime": {
     "end_time": "2024-06-11T12:33:58.760104Z",
     "start_time": "2024-06-11T12:33:44.125559Z"
    }
   },
   "id": "31e1950fde4bc367",
   "outputs": [],
   "execution_count": 79
  },
  {
   "cell_type": "code",
   "source": [
    "h_params = {\n",
    "    'input_size': 1024,\n",
    "    'n_hidden': 512, \n",
    "    'batch_size': 128,\n",
    "    'epochs':20,\n",
    "    'lr': .01\n",
    "}"
   ],
   "metadata": {
    "collapsed": false,
    "ExecuteTime": {
     "end_time": "2024-06-11T12:33:58.916689Z",
     "start_time": "2024-06-11T12:33:58.762105Z"
    }
   },
   "id": "65bf5a9c2b614344",
   "outputs": [],
   "execution_count": 80
  },
  {
   "cell_type": "code",
   "source": [
    "# Linear regression model\n",
    "\n",
    "device = torch.device('cuda' if torch.cuda.is_available() else 'cpu')\n",
    "\n",
    "linear_regression = Lin_reg(h_params)\n",
    "\n",
    "linear_regression = linear_regression.to(device)"
   ],
   "metadata": {
    "collapsed": false,
    "ExecuteTime": {
     "end_time": "2024-06-11T12:33:59.041140Z",
     "start_time": "2024-06-11T12:33:58.917533Z"
    }
   },
   "id": "e4d5e4ebbeed3831",
   "outputs": [],
   "execution_count": 81
  },
  {
   "metadata": {
    "ExecuteTime": {
     "end_time": "2024-06-11T12:33:59.164760Z",
     "start_time": "2024-06-11T12:33:59.043068Z"
    }
   },
   "cell_type": "code",
   "source": [
    "# Neural network model\n",
    "\n",
    "device = torch.device('cuda' if torch.cuda.is_available() else 'cpu')\n",
    "neural_net = NeuralNet(h_params)\n",
    "neural_net = neural_net.to(device)"
   ],
   "id": "96986ac8c428cff0",
   "outputs": [],
   "execution_count": 82
  },
  {
   "cell_type": "code",
   "source": [
    "# for tensorboard\n",
    "path = \"logs/protpred1\"\n",
    "num_of_runs = len(os.listdir(path)) if os.path.exists(path) else 0\n",
    "path = os.path.join(path, f'run_{num_of_runs + 1}')\n",
    "\n",
    "tb_logger = SummaryWriter(path)\n",
    "# tb_logger.add_graph(linear_regression, torch.randn(1, 1024))\n",
    "\n",
    "# actual training\n",
    "model = neural_net\n",
    "\n",
    "batch_size = h_params['batch_size']\n",
    "epochs = h_params['epochs']\n",
    "best_model = None\n",
    "best_val_loss = float('inf')\n",
    "\n",
    "losses_train = []\n",
    "losses_val = []\n",
    "print('starting cross validation')\n",
    "\n",
    "train_keys, val_keys = dataset.train_keys, dataset.val_keys\n",
    "print(f\"Train keys: {len(train_keys)}, Val keys: {len(val_keys)}\")\n",
    "\n",
    "train_loader = Dataloader(dataset, train_keys, batch_size=batch_size, shuffle=True)\n",
    "val_loader = Dataloader(dataset, val_keys, batch_size=batch_size, shuffle=True)\n",
    "\n",
    "optimizer = torch.optim.Adam(model.parameters(), lr=model.hparams['lr'])\n",
    "# optimizer = torch.optim.Adam(model.parameters(), lr=model.hparams['lr'])\n",
    "criterion = nn.MSELoss()\n",
    "\n",
    "for epoch in range(epochs):\n",
    "    model.train()  # training model\n",
    "    running_loss = 0.0\n",
    "\n",
    "    for inputs, targets in tqdm.tqdm(train_loader, maxinterval=len(train_loader), desc=f'Epoch {epoch + 1}/{epochs}'):\n",
    "        # send data to device\n",
    "        inputs, targets = inputs.to(model.device), targets.to(model.device)\n",
    "        optimizer.zero_grad()\n",
    "        outputs = model(inputs)\n",
    "        outputs = outputs.view(-1)\n",
    "        loss = criterion(outputs, targets)\n",
    "\n",
    "        loss.backward()\n",
    "        optimizer.step()\n",
    "\n",
    "        running_loss += loss.item()\n",
    "\n",
    "    losses_train.append(running_loss / len(train_loader))\n",
    "    tb_logger.add_scalar('Training loss', running_loss / len(train_loader), epoch)\n",
    "\n",
    "    model.eval()\n",
    "    val_loss = 0.0\n",
    "    with torch.no_grad():\n",
    "        val_running_loss = 0.0\n",
    "        for inputs, targets in val_loader:\n",
    "            inputs, targets = inputs.to(model.device), targets.to(model.device)\n",
    "            outputs = model(inputs)\n",
    "            outputs = outputs.view(-1)\n",
    "            val_loss += criterion(outputs, targets).item()\n",
    "\n",
    "            val_running_loss += val_loss\n",
    "\n",
    "    # remember validation scores\n",
    "    losses_val.append(val_running_loss / len(val_loader))\n",
    "    tb_logger.add_scalar('Validation loss', val_running_loss / len(val_loader), epoch)\n",
    "\n",
    "    avg_val_loss = val_loss / len(val_loader)\n",
    "\n",
    "    if avg_val_loss < best_val_loss:\n",
    "        best_val_loss = avg_val_loss\n",
    "        best_model = model\n",
    "\n",
    "print(f\"Best validation loss: {best_val_loss}\")"
   ],
   "metadata": {
    "collapsed": false,
    "jupyter": {
     "is_executing": true
    },
    "ExecuteTime": {
     "start_time": "2024-06-11T12:33:59.166278Z"
    }
   },
   "id": "f591690bc08598e0",
   "outputs": [
    {
     "name": "stdout",
     "output_type": "stream",
     "text": [
      "starting cross validation\n",
      "Train keys: 7666, Val keys: 1353\n"
     ]
    },
    {
     "name": "stderr",
     "output_type": "stream",
     "text": [
      "Epoch 1/20:   5%|▌         | 3/60 [00:16<05:02,  5.31s/it]"
     ]
    }
   ],
   "execution_count": null
  },
  {
   "metadata": {},
   "cell_type": "code",
   "source": [
    "# save the model checkpoint\n",
    "torch.save(best_model.state_dict(), 'models/neural_net.pth')"
   ],
   "id": "5b8dfc3f0ad9f124",
   "outputs": [],
   "execution_count": null
  },
  {
   "cell_type": "code",
   "source": [
    "plt.plot(losses_train, label='train')\n",
    "plt.plot(losses_val, label='val')\n",
    "plt.legend()\n",
    "plt.show()"
   ],
   "metadata": {
    "collapsed": false,
    "ExecuteTime": {
     "end_time": "2024-06-07T21:32:38.417697Z",
     "start_time": "2024-06-07T21:32:37.858371Z"
    }
   },
   "id": "bb13d5b73687263c",
   "outputs": [
    {
     "data": {
      "text/plain": [
       "<Figure size 640x480 with 1 Axes>"
      ],
      "image/png": "[encoded data removed]"
     },
     "metadata": {},
     "output_type": "display_data"
    }
   ],
   "execution_count": 10
  },
  {
   "metadata": {
    "ExecuteTime": {
     "end_time": "2024-06-08T06:41:40.084202Z",
     "start_time": "2024-06-08T06:41:39.990826Z"
    }
   },
   "cell_type": "code",
   "source": [
    "# load a saved model\n",
    "model = Lin_reg(hparams=h_params)\n",
    "model.load_state_dict(torch.load('models/lin_reg_model.pth'))\n",
    "model.to(device)"
   ],
   "id": "81086e27ea06b574",
   "outputs": [
    {
     "data": {
      "text/plain": [
       "Lin_reg(\n",
       "  (model): Sequential(\n",
       "    (0): Linear(in_features=1024, out_features=512, bias=True)\n",
       "    (1): Linear(in_features=512, out_features=1, bias=True)\n",
       "  )\n",
       ")"
      ]
     },
     "execution_count": 6,
     "metadata": {},
     "output_type": "execute_result"
    }
   ],
   "execution_count": 6
  },
  {
   "metadata": {},
   "cell_type": "code",
   "outputs": [],
   "execution_count": null,
   "source": [
    "def predict(dataset, keys, model):\n",
    "    batch_size = 32\n",
    "\n",
    "    test_loader = Dataloader(dataset, keys, batch_size=batch_size, shuffle=False)\n",
    "    model.eval()\n",
    "    predictions = []\n",
    "    truths = []\n",
    "    with torch.no_grad():\n",
    "        for inputs, targets in tqdm.tqdm(test_loader, maxinterval=len(test_loader)):\n",
    "            inputs = inputs.to(model.device)\n",
    "            outputs = model(inputs)\n",
    "            predictions.append(outputs)\n",
    "            truths.append(targets)\n",
    "\n",
    "    return predictions, truths\n"
   ],
   "id": "4faa568030bf4e7d"
  },
  {
   "metadata": {
    "ExecuteTime": {
     "end_time": "2024-06-08T07:07:23.710454Z",
     "start_time": "2024-06-08T06:56:29.993407Z"
    }
   },
   "cell_type": "code",
   "source": [
    "# predict on training and validation set\n",
    "train_preds, train_truths = predict(dataset, dataset.train_keys, model)\n",
    "val_preds, val_truths = predict(dataset, dataset.val_keys, model)\n",
    "\n",
    "# calculate R2 score, Pearson correlation and MSE\n",
    "train_r2, train_pearson, train_mse = evaluate(train_preds, train_truths)\n",
    "val_r2, val_pearson, val_mse = evaluate(val_preds, val_truths)\n",
    "print(f\"Train R2: {train_r2}, Train Pearson: {train_pearson}, Train MSE: {train_mse}\")\n",
    "print(f\"Val R2: {val_r2}, Val Pearson: {val_pearson}, Val MSE: {val_mse}\")\n"
   ],
   "id": "8ca3aec986ab4259",
   "outputs": [
    {
     "name": "stderr",
     "output_type": "stream",
     "text": [
      "100%|██████████| 407/407 [09:14<00:00,  1.36s/it]\n",
      "100%|██████████| 71/71 [01:38<00:00,  1.39s/it]\n"
     ]
    },
    {
     "name": "stdout",
     "output_type": "stream",
     "text": [
      "Train R2: -0.2538379430770874, Train Pearson: PearsonRResult(statistic=0.09436126703913501, pvalue=0.0), Train MSE: 0.002171992789953947\n",
      "Val R2: -0.2460421323776245, Val Pearson: PearsonRResult(statistic=0.09208420064283342, pvalue=0.0), Val MSE: 0.0021470123901963234\n"
     ]
    }
   ],
   "execution_count": 9
  },
  {
   "metadata": {},
   "cell_type": "code",
   "outputs": [],
   "execution_count": null,
   "source": "",
   "id": "131b2522d614bdab"
  },
  {
   "metadata": {
    "ExecuteTime": {
     "end_time": "2024-06-08T06:52:53.708343Z",
     "start_time": "2024-06-08T06:52:53.506141Z"
    }
   },
   "cell_type": "code",
   "source": [
    "# save train preds and train truths to pickle\n",
    "import pickle\n",
    "predictions = {'train_preds': train_preds, 'train_truths': train_truths, 'val_preds': val_preds, 'val_truths': val_truths}\n",
    "with open('predictions.pkl', 'wb') as f:\n",
    "    pickle.dump(predictions, f)"
   ],
   "id": "d81f36dd47dfb766",
   "outputs": [],
   "execution_count": 8
  },
  {
   "cell_type": "code",
   "source": [
    "# save losses to csv\n",
    "import pandas as pd\n",
    "losses = pd.DataFrame({'train': losses_train, 'val': losses_val})\n",
    "losses.to_csv('losses.csv', index=False)"
   ],
   "metadata": {
    "collapsed": false,
    "ExecuteTime": {
     "end_time": "2024-06-06T08:31:48.036389Z",
     "start_time": "2024-06-06T08:31:47.945766Z"
    }
   },
   "id": "745ed36d55b44d6",
   "outputs": [],
   "execution_count": 13
  },
  {
   "cell_type": "code",
   "source": "",
   "metadata": {
    "collapsed": false
   },
   "id": "8d633bde76bdcca4",
   "outputs": [],
   "execution_count": null
  },
  {
   "cell_type": "code",
   "source": "",
   "metadata": {
    "collapsed": false
   },
   "id": "662cb700ee8f5f42",
   "outputs": [],
   "execution_count": null
  }
 ],
 "metadata": {
  "kernelspec": {
   "name": "python3",
   "language": "python",
   "display_name": "Python 3 (ipykernel)"
  },
  "language_info": {
   "codemirror_mode": {
    "name": "ipython",
    "version": 2
   },
   "file_extension": ".py",
   "mimetype": "text/x-python",
   "name": "python",
   "nbconvert_exporter": "python",
   "pygments_lexer": "ipython2",
   "version": "2.7.6"
  }
 },
 "nbformat": 4,
 "nbformat_minor": 5
}
