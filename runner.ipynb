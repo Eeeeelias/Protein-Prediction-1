{
 "cells": [
  {
   "metadata": {
    "ExecuteTime": {
     "end_time": "2024-06-16T08:02:22.074798Z",
     "start_time": "2024-06-16T08:02:10.567670Z"
    }
   },
   "cell_type": "code",
   "source": [
    "# Install tensorboard\n",
    "import os\n",
    "\n",
    "import torch.optim\n",
    "!pip install tensorboard\n",
    "\n",
    "\n",
    "if not os.path.exists('logs'):\n",
    "    os.makedirs('logs')"
   ],
   "id": "2b56ae76937d3b4a",
   "outputs": [
    {
     "name": "stdout",
     "output_type": "stream",
     "text": [
      "Requirement already satisfied: tensorboard in d:\\programming\\pp1\\.venv\\lib\\site-packages (2.16.2)\n",
      "Requirement already satisfied: absl-py>=0.4 in d:\\programming\\pp1\\.venv\\lib\\site-packages (from tensorboard) (2.1.0)\n",
      "Requirement already satisfied: grpcio>=1.48.2 in d:\\programming\\pp1\\.venv\\lib\\site-packages (from tensorboard) (1.64.1)\n",
      "Requirement already satisfied: markdown>=2.6.8 in d:\\programming\\pp1\\.venv\\lib\\site-packages (from tensorboard) (3.6)\n",
      "Requirement already satisfied: numpy>=1.12.0 in d:\\programming\\pp1\\.venv\\lib\\site-packages (from tensorboard) (1.26.4)\n",
      "Requirement already satisfied: protobuf!=4.24.0,>=3.19.6 in d:\\programming\\pp1\\.venv\\lib\\site-packages (from tensorboard) (5.27.1)\n",
      "Requirement already satisfied: setuptools>=41.0.0 in d:\\programming\\pp1\\.venv\\lib\\site-packages (from tensorboard) (68.2.0)\n",
      "Requirement already satisfied: six>1.9 in d:\\programming\\pp1\\.venv\\lib\\site-packages (from tensorboard) (1.16.0)\n",
      "Requirement already satisfied: tensorboard-data-server<0.8.0,>=0.7.0 in d:\\programming\\pp1\\.venv\\lib\\site-packages (from tensorboard) (0.7.2)\n",
      "Requirement already satisfied: werkzeug>=1.0.1 in d:\\programming\\pp1\\.venv\\lib\\site-packages (from tensorboard) (3.0.3)\n",
      "Requirement already satisfied: MarkupSafe>=2.1.1 in d:\\programming\\pp1\\.venv\\lib\\site-packages (from werkzeug>=1.0.1->tensorboard) (2.1.5)\n"
     ]
    },
    {
     "name": "stderr",
     "output_type": "stream",
     "text": [
      "\n",
      "[notice] A new release of pip is available: 23.2.1 -> 24.0\n",
      "[notice] To update, run: python.exe -m pip install --upgrade pip\n"
     ]
    }
   ],
   "execution_count": 1
  },
  {
   "cell_type": "code",
   "id": "initial_id",
   "metadata": {
    "collapsed": true,
    "ExecuteTime": {
     "end_time": "2024-06-16T08:02:29.588870Z",
     "start_time": "2024-06-16T08:02:22.076799Z"
    }
   },
   "source": [
    "from dataload import *\n",
    "from lin_reg import *\n",
    "from neural_net import *\n",
    "import tqdm\n",
    "import matplotlib.pyplot as plt\n",
    "from torch.utils.tensorboard import SummaryWriter\n",
    "%load_ext autoreload\n",
    "%autoreload 2"
   ],
   "outputs": [],
   "execution_count": 2
  },
  {
   "cell_type": "code",
   "source": "dataset = dense_Dataset('data/embeddings.h5', 'data/densities.csv', test_perc=0.15, val_perc=0.15) ",
   "metadata": {
    "collapsed": false,
    "ExecuteTime": {
     "end_time": "2024-06-16T08:02:45.152773Z",
     "start_time": "2024-06-16T08:02:29.589871Z"
    }
   },
   "id": "31e1950fde4bc367",
   "outputs": [],
   "execution_count": 3
  },
  {
   "cell_type": "code",
   "source": [
    "h_params = {\n",
    "    'input_size': 1024,\n",
    "    'n_hidden': 512, \n",
    "    'batch_size': 128,\n",
    "    'epochs':100,\n",
    "    'lr': .001,\n",
    "    'patience': 5\n",
    "}"
   ],
   "metadata": {
    "collapsed": false,
    "ExecuteTime": {
     "end_time": "2024-06-16T19:54:04.391644Z",
     "start_time": "2024-06-16T19:54:04.234978Z"
    }
   },
   "id": "65bf5a9c2b614344",
   "outputs": [],
   "execution_count": 24
  },
  {
   "metadata": {
    "ExecuteTime": {
     "end_time": "2024-06-16T21:25:36.671691Z",
     "start_time": "2024-06-16T21:25:36.445322Z"
    }
   },
   "cell_type": "code",
   "source": [
    "device = torch.device('cuda' if torch.cuda.is_available() else 'cpu')\n",
    "\n",
    "# Linear regression model\n",
    "linear_regression = Lin_reg(h_params)\n",
    "linear_regression.to(device)\n",
    "\n",
    "# Linear regression model with Relu activation\n",
    "# linear_regression_relu = Lin_reg_relu(h_params)\n",
    "# linear_regression_relu.to(device)\n",
    "\n",
    "# Neural network model\n",
    "\n",
    "neural_net = NeuralNet(h_params)\n",
    "neural_net.to(device)\n",
    "model = neural_net"
   ],
   "id": "96986ac8c428cff0",
   "outputs": [],
   "execution_count": 51
  },
  {
   "metadata": {
    "ExecuteTime": {
     "end_time": "2024-06-16T21:25:37.677589Z",
     "start_time": "2024-06-16T21:25:37.090610Z"
    }
   },
   "cell_type": "code",
   "source": [
    "# actual training\n",
    "losses_train = []\n",
    "losses_val = []\n",
    "\n",
    "train_keys, val_keys = dataset.train_keys, dataset.val_keys\n",
    "print(f\"Train keys: {len(train_keys)}, Val keys: {len(val_keys)}\")\n",
    "\n",
    "\n",
    "optimizer = torch.optim.Adam(model.parameters(), lr=model.hparams['lr'])\n",
    "# optimizer = torch.optim.Adam(model.parameters(), lr=model.hparams['lr'])\n",
    "criterion = nn.MSELoss()\n",
    "\n",
    "# overfit on one sample\n",
    "inputs, targets, _ = next(iter(Dataloader(dataset, train_keys, batch_size=5, shuffle=False)))\n",
    "val_inputs, val_targets, _ = next(iter(Dataloader(dataset, val_keys, batch_size=5, shuffle=False)))\n",
    "target_mean = targets.mean()\n",
    "targets = targets - target_mean\n",
    "\n",
    "val_mean = val_targets.mean()\n",
    "val_targets = val_targets - val_mean\n"
   ],
   "id": "aae6173907c20d16",
   "outputs": [
    {
     "name": "stdout",
     "output_type": "stream",
     "text": [
      "Train keys: 13033, Val keys: 2300\n"
     ]
    }
   ],
   "execution_count": 52
  },
  {
   "metadata": {
    "ExecuteTime": {
     "end_time": "2024-06-16T21:25:40.365744Z",
     "start_time": "2024-06-16T21:25:38.188633Z"
    }
   },
   "cell_type": "code",
   "source": [
    "tmp_mean = None\n",
    "for i in range(500):\n",
    "    inputs, targets = inputs.to(model.device), targets.to(model.device)\n",
    "    optimizer.zero_grad()\n",
    "    outputs = model(inputs)\n",
    "    outputs = outputs.view(-1)\n",
    "    loss = criterion(outputs, targets)\n",
    "    loss.backward()\n",
    "    optimizer.step()\n",
    "    losses_train.append(loss.item())\n",
    "    # do validation\n",
    "    val_loss = 0.0\n",
    "    with torch.no_grad():\n",
    "        val_running_loss = 0.0\n",
    "        # remove mean from targets\n",
    "        val_inputs, val_targets = val_inputs.to(model.device), val_targets.to(model.device)\n",
    "        val_outputs = model(val_inputs)\n",
    "        val_outputs = val_outputs.view(-1)\n",
    "        val_loss += criterion(val_outputs, val_targets).item()\n",
    "        val_running_loss += val_loss\n",
    "    losses_val.append(val_loss)\n",
    "    \n",
    "# print last 5 losses\n",
    "print(losses_train[-5:])\n",
    "print(losses_val[-5:])"
   ],
   "id": "c6281ea1b0563dfe",
   "outputs": [
    {
     "name": "stdout",
     "output_type": "stream",
     "text": [
      "[2.8552342428156408e-06, 2.846338702511275e-06, 2.837392003129935e-06, 2.8284975996939465e-06, 2.819781002472155e-06]\n",
      "[0.0005132348742336035, 0.0005132494261488318, 0.0005132605438120663, 0.0005132705555297434, 0.0005132824881002307]\n"
     ]
    }
   ],
   "execution_count": 53
  },
  {
   "metadata": {
    "ExecuteTime": {
     "end_time": "2024-06-16T21:25:46.397631Z",
     "start_time": "2024-06-16T21:25:46.053259Z"
    }
   },
   "cell_type": "code",
   "source": [
    "truths = targets.cpu().numpy()\n",
    "preds = outputs.detach().cpu().numpy()\n",
    "\n",
    "# add mean to both predictions and truths\n",
    "truths = truths + target_mean.item()\n",
    "preds = preds + target_mean.item()\n",
    "# clip predictions to 0\n",
    "# preds = np.clip(preds, 0, None)\n",
    "\n",
    "# calculate MSE between predictions and truths\n",
    "mse = np.mean((truths - preds) ** 2)\n",
    "print(f\"MSE: {mse}\")\n",
    "\n",
    "truths = truths[:100]\n",
    "preds = preds[:100]\n",
    "plt.figure(figsize=(11, 5))\n",
    "plt.scatter(range(len(preds)), preds, label=\"Predicted Density\")\n",
    "plt.scatter(range(len(truths)), truths, c=\"tomato\", label=\"True Density\")\n",
    "plt.vlines(x=range(len(preds)), linestyle='-', linewidth=1, ymin=0, ymax=preds)\n",
    "plt.xlabel(\"Residue Index\")\n",
    "plt.ylabel(\"Contact Density\")\n",
    "plt.title(\"Contact Density per Residue\")\n",
    "plt.legend()\n",
    "# plt.savefig(\"neural_net_density.png\")\n",
    "plt.show()"
   ],
   "id": "a05552a73741a4ea",
   "outputs": [
    {
     "name": "stdout",
     "output_type": "stream",
     "text": [
      "MSE: 2.8197807750984794e-06\n"
     ]
    },
    {
     "data": {
      "text/plain": [
       "<Figure size 1100x500 with 1 Axes>"
      ],
      "image/png": "[encoded data removed]"
     },
     "metadata": {},
     "output_type": "display_data"
    }
   ],
   "execution_count": 54
  },
  {
   "metadata": {
    "ExecuteTime": {
     "end_time": "2024-06-16T21:25:57.074884Z",
     "start_time": "2024-06-16T21:25:56.819080Z"
    }
   },
   "cell_type": "code",
   "source": [
    "# plot the learning curve\n",
    "plt.plot(losses_train, label='train')\n",
    "plt.plot(losses_val, label='val')\n",
    "plt.legend()\n",
    "plt.show()"
   ],
   "id": "3dd25a336d459d7e",
   "outputs": [
    {
     "data": {
      "text/plain": [
       "<Figure size 640x480 with 1 Axes>"
      ],
      "image/png": "[encoded data removed]"
     },
     "metadata": {},
     "output_type": "display_data"
    }
   ],
   "execution_count": 55
  },
  {
   "metadata": {
    "ExecuteTime": {
     "end_time": "2024-06-16T21:00:18.544340Z",
     "start_time": "2024-06-16T19:54:11.213747Z"
    }
   },
   "cell_type": "code",
   "source": [
    "# for tensorboard\n",
    "path = \"logs/protpred1\"\n",
    "num_of_runs = len(os.listdir(path)) if os.path.exists(path) else 0\n",
    "path = os.path.join(path, f'run_{num_of_runs + 1}')\n",
    "\n",
    "tb_logger = SummaryWriter(path)\n",
    "\n",
    "batch_size = h_params['batch_size']\n",
    "epochs = h_params['epochs']\n",
    "best_model = None\n",
    "best_val_loss = float('inf')\n",
    "\n",
    "losses_train = []\n",
    "losses_val = []\n",
    "\n",
    "train_loader = Dataloader(dataset, train_keys, batch_size=batch_size, shuffle=True)\n",
    "val_loader = Dataloader(dataset, val_keys, batch_size=batch_size, shuffle=True)\n",
    "\n",
    "early_stop = EarlyStopping(patience=h_params['patience'])\n",
    "\n",
    "\n",
    "for epoch in range(epochs):\n",
    "    model.train()  # training model\n",
    "    running_loss = 0.0\n",
    "\n",
    "    for inputs, targets, _ in tqdm.tqdm(train_loader, maxinterval=len(train_loader), desc=f'Epoch {epoch + 1}/{epochs}'):\n",
    "        # send data to device\n",
    "        inputs, targets = inputs.to(model.device), targets.to(model.device)\n",
    "        targets = targets - targets.mean()\n",
    "        # apply log(x+1) to targets\n",
    "        optimizer.zero_grad()\n",
    "        outputs = model(inputs)\n",
    "        outputs = outputs.view(-1)\n",
    "\n",
    "        loss = criterion(outputs, targets)\n",
    "\n",
    "        loss.backward()\n",
    "        optimizer.step()\n",
    "\n",
    "        running_loss += loss.item()\n",
    "\n",
    "    losses_train.append(running_loss / len(train_loader))\n",
    "    tb_logger.add_scalar('Training loss', running_loss / len(train_loader), epoch)\n",
    "\n",
    "    model.eval()\n",
    "    val_loss = 0.0\n",
    "    target_mean = None\n",
    "    output_mean = None\n",
    "    with torch.no_grad():\n",
    "        val_running_loss = 0.0\n",
    "        for inputs, targets, _ in val_loader:\n",
    "            inputs, targets = inputs.to(model.device), targets.to(model.device)\n",
    "            target_mean = targets.mean()\n",
    "            targets = targets - target_mean\n",
    "            \n",
    "            outputs = model(inputs)\n",
    "            outputs = outputs.view(-1)\n",
    "            \n",
    "            output_mean = outputs.mean()\n",
    "            \n",
    "            val_loss += criterion(outputs, targets).item()\n",
    "\n",
    "            val_running_loss += val_loss\n",
    "\n",
    "    # remember validation scores\n",
    "    losses_val.append(val_running_loss / len(val_loader))\n",
    "    tb_logger.add_scalar('Validation loss', val_running_loss / len(val_loader), epoch)\n",
    "\n",
    "    avg_val_loss = val_loss / len(val_loader)\n",
    "    \n",
    "    if avg_val_loss < best_val_loss:\n",
    "        best_val_loss = avg_val_loss\n",
    "        best_model = model\n",
    "    \n",
    "    early_stop(losses_val[-1])\n",
    "    if early_stop.should_stop():\n",
    "        print(f\"Stopped early at epoch: {epoch+1}\")        \n",
    "        break\n",
    "    \n",
    "\n",
    "print(f\"Best validation loss: {best_val_loss}\")"
   ],
   "id": "621455617875aa78",
   "outputs": [
    {
     "name": "stderr",
     "output_type": "stream",
     "text": [
      "Epoch 1/100: 100%|██████████| 102/102 [09:17<00:00,  5.47s/it]\n",
      "Epoch 2/100: 100%|██████████| 102/102 [09:11<00:00,  5.41s/it]\n",
      "Epoch 3/100: 100%|██████████| 102/102 [09:12<00:00,  5.42s/it]\n",
      "Epoch 4/100: 100%|██████████| 102/102 [09:05<00:00,  5.35s/it]\n",
      "Epoch 5/100: 100%|██████████| 102/102 [09:08<00:00,  5.38s/it]\n",
      "Epoch 6/100: 100%|██████████| 102/102 [09:12<00:00,  5.42s/it]\n",
      "Epoch 7/100:  13%|█▎        | 13/102 [01:12<08:18,  5.60s/it]\n"
     ]
    },
    {
     "ename": "KeyboardInterrupt",
     "evalue": "",
     "output_type": "error",
     "traceback": [
      "\u001B[1;31m---------------------------------------------------------------------------\u001B[0m",
      "\u001B[1;31mKeyboardInterrupt\u001B[0m                         Traceback (most recent call last)",
      "Cell \u001B[1;32mIn[26], line 26\u001B[0m\n\u001B[0;32m     23\u001B[0m model\u001B[38;5;241m.\u001B[39mtrain()  \u001B[38;5;66;03m# training model\u001B[39;00m\n\u001B[0;32m     24\u001B[0m running_loss \u001B[38;5;241m=\u001B[39m \u001B[38;5;241m0.0\u001B[39m\n\u001B[1;32m---> 26\u001B[0m \u001B[38;5;28;01mfor\u001B[39;00m inputs, targets, _ \u001B[38;5;129;01min\u001B[39;00m tqdm\u001B[38;5;241m.\u001B[39mtqdm(train_loader, maxinterval\u001B[38;5;241m=\u001B[39m\u001B[38;5;28mlen\u001B[39m(train_loader), desc\u001B[38;5;241m=\u001B[39m\u001B[38;5;124mf\u001B[39m\u001B[38;5;124m'\u001B[39m\u001B[38;5;124mEpoch \u001B[39m\u001B[38;5;132;01m{\u001B[39;00mepoch\u001B[38;5;250m \u001B[39m\u001B[38;5;241m+\u001B[39m\u001B[38;5;250m \u001B[39m\u001B[38;5;241m1\u001B[39m\u001B[38;5;132;01m}\u001B[39;00m\u001B[38;5;124m/\u001B[39m\u001B[38;5;132;01m{\u001B[39;00mepochs\u001B[38;5;132;01m}\u001B[39;00m\u001B[38;5;124m'\u001B[39m):\n\u001B[0;32m     27\u001B[0m     \u001B[38;5;66;03m# send data to device\u001B[39;00m\n\u001B[0;32m     28\u001B[0m     inputs, targets \u001B[38;5;241m=\u001B[39m inputs\u001B[38;5;241m.\u001B[39mto(model\u001B[38;5;241m.\u001B[39mdevice), targets\u001B[38;5;241m.\u001B[39mto(model\u001B[38;5;241m.\u001B[39mdevice)\n\u001B[0;32m     29\u001B[0m     targets \u001B[38;5;241m=\u001B[39m targets \u001B[38;5;241m-\u001B[39m targets\u001B[38;5;241m.\u001B[39mmean()\n",
      "File \u001B[1;32mD:\\programming\\PP1\\.venv\\lib\\site-packages\\tqdm\\std.py:1181\u001B[0m, in \u001B[0;36mtqdm.__iter__\u001B[1;34m(self)\u001B[0m\n\u001B[0;32m   1178\u001B[0m time \u001B[38;5;241m=\u001B[39m \u001B[38;5;28mself\u001B[39m\u001B[38;5;241m.\u001B[39m_time\n\u001B[0;32m   1180\u001B[0m \u001B[38;5;28;01mtry\u001B[39;00m:\n\u001B[1;32m-> 1181\u001B[0m     \u001B[38;5;28;01mfor\u001B[39;00m obj \u001B[38;5;129;01min\u001B[39;00m iterable:\n\u001B[0;32m   1182\u001B[0m         \u001B[38;5;28;01myield\u001B[39;00m obj\n\u001B[0;32m   1183\u001B[0m         \u001B[38;5;66;03m# Update and possibly print the progressbar.\u001B[39;00m\n\u001B[0;32m   1184\u001B[0m         \u001B[38;5;66;03m# Note: does not call self.update(1) for speed optimisation.\u001B[39;00m\n",
      "File \u001B[1;32mD:\\programming\\PP1\\dataload.py:70\u001B[0m, in \u001B[0;36mDataloader.__iter__\u001B[1;34m(self)\u001B[0m\n\u001B[0;32m     67\u001B[0m batch \u001B[38;5;241m=\u001B[39m []\n\u001B[0;32m     69\u001B[0m \u001B[38;5;28;01mfor\u001B[39;00m index \u001B[38;5;129;01min\u001B[39;00m index_iterator:\n\u001B[1;32m---> 70\u001B[0m     batch\u001B[38;5;241m.\u001B[39mappend((\u001B[38;5;28;43mself\u001B[39;49m\u001B[38;5;241;43m.\u001B[39;49m\u001B[43mdataset\u001B[49m\u001B[43m[\u001B[49m\u001B[43mindex\u001B[49m\u001B[43m]\u001B[49m, index))\n\u001B[0;32m     71\u001B[0m     \u001B[38;5;28;01mif\u001B[39;00m \u001B[38;5;28mlen\u001B[39m(batch) \u001B[38;5;241m==\u001B[39m \u001B[38;5;28mself\u001B[39m\u001B[38;5;241m.\u001B[39mbatch_size:\n\u001B[0;32m     72\u001B[0m         batches\u001B[38;5;241m.\u001B[39mappend(batch)\n",
      "File \u001B[1;32mD:\\programming\\PP1\\dataload.py:45\u001B[0m, in \u001B[0;36mdense_Dataset.__getitem__\u001B[1;34m(self, index)\u001B[0m\n\u001B[0;32m     43\u001B[0m \u001B[38;5;28;01mif\u001B[39;00m \u001B[38;5;28misinstance\u001B[39m(index, \u001B[38;5;28mint\u001B[39m):\n\u001B[0;32m     44\u001B[0m     index \u001B[38;5;241m=\u001B[39m \u001B[38;5;28mself\u001B[39m\u001B[38;5;241m.\u001B[39mkeys[index]\n\u001B[1;32m---> 45\u001B[0m \u001B[38;5;28;01mreturn\u001B[39;00m \u001B[43mtorch\u001B[49m\u001B[38;5;241;43m.\u001B[39;49m\u001B[43mtensor\u001B[49m\u001B[43m(\u001B[49m\u001B[38;5;28;43mself\u001B[39;49m\u001B[38;5;241;43m.\u001B[39;49m\u001B[43membed_file\u001B[49m\u001B[43m[\u001B[49m\u001B[43mindex\u001B[49m\u001B[43m]\u001B[49m\u001B[43m,\u001B[49m\u001B[43m \u001B[49m\u001B[43mdtype\u001B[49m\u001B[38;5;241;43m=\u001B[39;49m\u001B[43mtorch\u001B[49m\u001B[38;5;241;43m.\u001B[39;49m\u001B[43mfloat\u001B[49m\u001B[43m)\u001B[49m, torch\u001B[38;5;241m.\u001B[39mtensor(\u001B[38;5;28mself\u001B[39m\u001B[38;5;241m.\u001B[39mdense[index],\n\u001B[0;32m     46\u001B[0m                                                                              dtype\u001B[38;5;241m=\u001B[39mtorch\u001B[38;5;241m.\u001B[39mfloat)\n",
      "\u001B[1;31mKeyboardInterrupt\u001B[0m: "
     ]
    }
   ],
   "execution_count": 26
  },
  {
   "metadata": {
    "ExecuteTime": {
     "end_time": "2024-06-16T21:22:29.935604Z",
     "start_time": "2024-06-16T21:20:59.512977Z"
    }
   },
   "cell_type": "code",
   "source": [
    "model.eval()\n",
    "target_mean = None\n",
    "output_mean = None\n",
    "with torch.no_grad():\n",
    "    val_running_loss = 0.0\n",
    "    for inputs, targets, _ in val_loader:\n",
    "        inputs, targets = inputs.to(model.device), targets.to(model.device)\n",
    "        target_mean = targets.mean()\n",
    "        targets = targets - target_mean\n",
    "        \n",
    "        outputs = model(inputs)\n",
    "        outputs = outputs.view(-1)\n",
    "        \n",
    "        output_mean = outputs.mean()"
   ],
   "id": "64cc0fe4137fb5d4",
   "outputs": [],
   "execution_count": 46
  },
  {
   "cell_type": "code",
   "source": [
    "plt.plot(losses_train, label='train')\n",
    "plt.plot(losses_val, label='val')\n",
    "plt.legend()\n",
    "plt.show()"
   ],
   "metadata": {
    "collapsed": false,
    "ExecuteTime": {
     "end_time": "2024-06-16T21:14:47.690328Z",
     "start_time": "2024-06-16T21:14:47.431451Z"
    }
   },
   "id": "bb13d5b73687263c",
   "outputs": [
    {
     "data": {
      "text/plain": [
       "<Figure size 640x480 with 1 Axes>"
      ],
      "image/png": "[encoded data removed]"
     },
     "metadata": {},
     "output_type": "display_data"
    }
   ],
   "execution_count": 41
  },
  {
   "metadata": {
    "ExecuteTime": {
     "end_time": "2024-06-16T21:22:38.967230Z",
     "start_time": "2024-06-16T21:22:38.799609Z"
    }
   },
   "cell_type": "code",
   "source": [
    "# print example outputs and targets\n",
    "print(outputs[:10])\n",
    "print(targets[:10])\n",
    "\n",
    "# print means\n",
    "print(target_mean, output_mean)"
   ],
   "id": "b65dad76c6663f86",
   "outputs": [
    {
     "name": "stdout",
     "output_type": "stream",
     "text": [
      "tensor([-0.0609, -0.0559, -0.1243, -0.1047, -0.1127, -0.0917, -0.0997, -0.0911,\n",
      "        -0.0838, -0.0478], device='cuda:0')\n",
      "tensor([-0.0056,  0.0034,  0.0210,  0.0210,  0.0297,  0.0210,  0.0297,  0.0254,\n",
      "         0.0210,  0.0078], device='cuda:0')\n",
      "tensor(0.0323, device='cuda:0') tensor(-0.0716, device='cuda:0')\n"
     ]
    }
   ],
   "execution_count": 47
  },
  {
   "metadata": {
    "ExecuteTime": {
     "end_time": "2024-06-16T21:22:39.908587Z",
     "start_time": "2024-06-16T21:22:39.807230Z"
    }
   },
   "cell_type": "code",
   "source": [
    "truths = targets.cpu().numpy()\n",
    "preds = outputs.detach().cpu().numpy()\n",
    "min(truths) + target_mean.item()"
   ],
   "id": "a24f6159e0b7360e",
   "outputs": [
    {
     "data": {
      "text/plain": [
       "-0.0005338490009307861"
      ]
     },
     "execution_count": 48,
     "metadata": {},
     "output_type": "execute_result"
    }
   ],
   "execution_count": 48
  },
  {
   "metadata": {
    "ExecuteTime": {
     "end_time": "2024-06-16T21:22:40.864369Z",
     "start_time": "2024-06-16T21:22:40.458497Z"
    }
   },
   "cell_type": "code",
   "source": [
    "truths = targets.cpu().numpy()\n",
    "preds = outputs.detach().cpu().numpy()\n",
    "\n",
    "# add mean to both predictions and truths\n",
    "truths = truths + target_mean.item()\n",
    "preds = preds + output_mean.item()\n",
    "# clip predictions to 0\n",
    "# preds = np.clip(preds, 0, None)\n",
    "\n",
    "# calculate MSE between predictions and truths\n",
    "mse = np.mean((truths - preds) ** 2)\n",
    "print(f\"MSE: {mse}\")\n",
    "\n",
    "truths = truths[:100]\n",
    "preds = preds[:100]\n",
    "plt.figure(figsize=(11, 5))\n",
    "plt.scatter(range(len(preds)), preds, label=\"Predicted Density\")\n",
    "plt.scatter(range(len(truths)), truths, c=\"tomato\", label=\"True Density\")\n",
    "plt.vlines(x=range(len(preds)), linestyle='-', linewidth=1, ymin=0, ymax=preds)\n",
    "plt.xlabel(\"Residue Index\")\n",
    "plt.ylabel(\"Contact Density\")\n",
    "plt.title(\"Contact Density per Residue\")\n",
    "plt.legend()\n",
    "plt.savefig(\"neural_net_big.png\")\n",
    "plt.show()\n"
   ],
   "id": "cf091d561d51bcca",
   "outputs": [
    {
     "name": "stdout",
     "output_type": "stream",
     "text": [
      "MSE: 0.03178198263049126\n"
     ]
    },
    {
     "data": {
      "text/plain": [
       "<Figure size 1100x500 with 1 Axes>"
      ],
      "image/png": "[encoded data removed]"
     },
     "metadata": {},
     "output_type": "display_data"
    }
   ],
   "execution_count": 49
  },
  {
   "metadata": {},
   "cell_type": "code",
   "outputs": [],
   "execution_count": null,
   "source": [
    "# save the model checkpoint\n",
    "torch.save(best_model.state_dict(), 'models/neural_net.pth')"
   ],
   "id": "f25aed648c0e3f57"
  },
  {
   "metadata": {
    "ExecuteTime": {
     "end_time": "2024-06-12T18:55:03.374113Z",
     "start_time": "2024-06-12T18:55:03.190492Z"
    }
   },
   "cell_type": "code",
   "source": [
    "# load a saved model\n",
    "model = Lin_reg(hparams=h_params)\n",
    "model.load_state_dict(torch.load('models/lin_reg_model.pth'))\n",
    "device = torch.device('cuda' if torch.cuda.is_available() else 'cpu')\n",
    "model.to(device)"
   ],
   "id": "81086e27ea06b574",
   "outputs": [
    {
     "data": {
      "text/plain": [
       "Lin_reg(\n",
       "  (model): Sequential(\n",
       "    (0): Linear(in_features=1024, out_features=512, bias=True)\n",
       "    (1): Linear(in_features=512, out_features=1, bias=True)\n",
       "  )\n",
       ")"
      ]
     },
     "execution_count": 13,
     "metadata": {},
     "output_type": "execute_result"
    }
   ],
   "execution_count": 13
  },
  {
   "metadata": {
    "ExecuteTime": {
     "end_time": "2024-06-12T18:55:04.302479Z",
     "start_time": "2024-06-12T18:55:04.222031Z"
    }
   },
   "cell_type": "code",
   "source": [
    "def predict(dataset, keys, model):\n",
    "    batch_size = 32\n",
    "\n",
    "    test_loader = Dataloader(dataset, keys, batch_size=batch_size, shuffle=False)\n",
    "    model.eval()\n",
    "    predictions = []\n",
    "    truths = []\n",
    "    pdb_chains = []\n",
    "    with torch.no_grad():\n",
    "        for inputs, targets, ids in tqdm.tqdm(test_loader, maxinterval=len(test_loader)):\n",
    "            inputs = inputs.to(model.device)\n",
    "            outputs = model(inputs)\n",
    "            predictions.append(outputs)\n",
    "            truths.append(targets)\n",
    "            pdb_chains.append(ids)\n",
    "\n",
    "    return predictions, truths, pdb_chains\n"
   ],
   "id": "4faa568030bf4e7d",
   "outputs": [],
   "execution_count": 14
  },
  {
   "metadata": {
    "ExecuteTime": {
     "end_time": "2024-06-12T19:05:41.099917Z",
     "start_time": "2024-06-12T18:55:05.771612Z"
    }
   },
   "cell_type": "code",
   "source": [
    "# predict on training and validation set\n",
    "train_preds, train_truths, train_ids = predict(dataset, dataset.train_keys, model)\n",
    "val_preds, val_truths, val_ids = predict(dataset, dataset.val_keys, model)\n",
    "\n",
    "# calculate R2 score, Pearson correlation and MSE\n",
    "train_r2, train_pearson, train_mse = evaluate(train_preds, train_truths)\n",
    "val_r2, val_pearson, val_mse = evaluate(val_preds, val_truths)\n",
    "print(f\"Train R2: {train_r2}, Train Pearson: {train_pearson}, Train MSE: {train_mse}\")\n",
    "print(f\"Val R2: {val_r2}, Val Pearson: {val_pearson}, Val MSE: {val_mse}\")\n"
   ],
   "id": "8ca3aec986ab4259",
   "outputs": [
    {
     "name": "stderr",
     "output_type": "stream",
     "text": [
      "100%|██████████| 408/408 [09:00<00:00,  1.32s/it]\n",
      "100%|██████████| 72/72 [01:34<00:00,  1.32s/it]\n"
     ]
    },
    {
     "name": "stdout",
     "output_type": "stream",
     "text": [
      "Train R2: -0.25236785411834717, Train Pearson: PearsonRResult(statistic=0.09417471246051212, pvalue=0.0), Train MSE: 0.002168449107557535\n",
      "Val R2: -0.2498471736907959, Val Pearson: PearsonRResult(statistic=0.09435643778427208, pvalue=0.0), Val MSE: 0.0021615454461425543\n"
     ]
    }
   ],
   "execution_count": 15
  },
  {
   "metadata": {},
   "cell_type": "code",
   "outputs": [],
   "execution_count": null,
   "source": "",
   "id": "131b2522d614bdab"
  },
  {
   "metadata": {
    "ExecuteTime": {
     "end_time": "2024-06-12T19:05:56.462044Z",
     "start_time": "2024-06-12T19:05:55.863836Z"
    }
   },
   "cell_type": "code",
   "source": [
    "# save train preds and train truths to pickle\n",
    "import pickle\n",
    "# convert all tensors to numpy arrays\n",
    "train_preds = [pred.cpu().numpy().flatten() for pred in train_preds]\n",
    "train_truths = [truth.cpu().numpy() for truth in train_truths]\n",
    "val_preds = [pred.cpu().numpy().flatten() for pred in val_preds]\n",
    "val_truths = [truth.cpu().numpy() for truth in val_truths]\n",
    "\n",
    "predictions = {'train_preds': train_preds, 'train_truths': train_truths, 'train_ids': train_ids,\n",
    "               'val_preds': val_preds, 'val_truths': val_truths, 'val_ids': val_ids}\n",
    "with open('predictions.pkl', 'wb') as f:\n",
    "    pickle.dump(predictions, f)"
   ],
   "id": "d81f36dd47dfb766",
   "outputs": [],
   "execution_count": 16
  },
  {
   "cell_type": "code",
   "source": [
    "# save losses to csv\n",
    "import pandas as pd\n",
    "losses = pd.DataFrame({'train': losses_train, 'val': losses_val})\n",
    "losses.to_csv('losses.csv', index=False)"
   ],
   "metadata": {
    "collapsed": false,
    "ExecuteTime": {
     "end_time": "2024-06-06T08:31:48.036389Z",
     "start_time": "2024-06-06T08:31:47.945766Z"
    }
   },
   "id": "745ed36d55b44d6",
   "outputs": [],
   "execution_count": 13
  },
  {
   "cell_type": "code",
   "source": "",
   "metadata": {
    "collapsed": false
   },
   "id": "8d633bde76bdcca4",
   "outputs": [],
   "execution_count": null
  },
  {
   "cell_type": "code",
   "source": [
    "batch_size = h_params['batch_size']\n",
    "train_keys, val_keys = dataset.train_keys, dataset.val_keys\n",
    "train_loader = Dataloader(dataset, train_keys, batch_size=batch_size, shuffle=True)\n",
    "\n",
    "for inputs, targets, ids in train_loader:\n",
    "    print(inputs.shape)\n",
    "    print(targets.shape)\n",
    "    print(ids)\n",
    "    break"
   ],
   "metadata": {
    "collapsed": false,
    "ExecuteTime": {
     "end_time": "2024-06-12T18:49:34.298193Z",
     "start_time": "2024-06-12T18:49:28.303551Z"
    }
   },
   "id": "662cb700ee8f5f42",
   "outputs": [
    {
     "name": "stdout",
     "output_type": "stream",
     "text": [
      "torch.Size([34395, 1024])\n",
      "torch.Size([34395])\n",
      "['5G3TA', '1PJ5A', '6C9XA', '6Y32B', '7OD9C', '2IN3A', '6UXDA', '2D68A', '5X40A', '2A67A', '6J17A', '1QGKB', '3MX1A', '3FWKA', '2EX5A', '4R9FA', '5W0HA', '1XG5A', '6GSZA', '1VE4A', '8HTIR', '2FUJA', '6VJCA', '1NUUA', '3P02A', '2GB7A', '7ZNLA', '5IBWC', '5HKPC', '4TQ2A', '7VFQA', '2A9IA', '2RCCA', '5M1PA', '2X8KA', '4QVRA', '2C81A', '6L3RA', '2JE8A', '4MJGA', '1AKOA', '7VTBA', '8HCND', '4NZGA', '3P9VA', '1AE9A', '7EXXA', '3WLIA', '5SZCA', '3RNVA', '3NKEA', '2X8NA', '1YE8A', '6H8OA', '3CKDA', '6RPXA', '4EC6A', '8W9TA', '4LF0A', '4BG5A', '7ZHLA', '7L71A', '6H2RA', '6NQWA', '5YDUA', '8AVQA', '4WZSA', '7FJKA', '7USBA', '1WWMA', '1HTWA', '6PI6A', '2P14A', '7KQ5A', '1QHLA', '1JEKA', '1WMXA', '7EARA', '2N54A', '7BY3B', '1Q5DA', '4EICA', '1JUVA', '4GOSA', '8J7TA', '3H43A', '2GAKA', '2V3GA', '7R5ZA', '5YQ0A', '5KLAA', '2JMSA', '5Z2HA', '5CV0A', '3K13A', '2WW5A', '2QHQA', '3FN2A', '3SGGA', '3UGFA', '2J1DG', '3U6XS', '1YWYA', '2CCQA', '3BQPA', '3D1LA', '4RRIA', '3KDQA', '3CJMA', '3WURA', '6LJEA', '6LUJA', '3VPZA', '5YU3A', '8PHOA', '1J3MA', '1QR0A', '7BU0A', '3CQNA', '2HIYA', '2DLAA', '4RM7A', '3HRGA', '2Y5PA', '6HCZA', '1T0IA', '1M22A', '2IJAA']\n"
     ]
    }
   ],
   "execution_count": 11
  },
  {
   "metadata": {},
   "cell_type": "code",
   "outputs": [],
   "execution_count": null,
   "source": "",
   "id": "11eedafac87ac9d2"
  }
 ],
 "metadata": {
  "kernelspec": {
   "name": "python3",
   "language": "python",
   "display_name": "Python 3 (ipykernel)"
  },
  "language_info": {
   "codemirror_mode": {
    "name": "ipython",
    "version": 2
   },
   "file_extension": ".py",
   "mimetype": "text/x-python",
   "name": "python",
   "nbconvert_exporter": "python",
   "pygments_lexer": "ipython2",
   "version": "2.7.6"
  }
 },
 "nbformat": 4,
 "nbformat_minor": 5
}
